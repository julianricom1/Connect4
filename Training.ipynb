{
 "cells": [
  {
   "cell_type": "code",
   "execution_count": 1,
   "id": "a9a32fcf-fce1-484f-b5da-56780faef7f1",
   "metadata": {},
   "outputs": [],
   "source": [
    "#pip install importnb"
   ]
  },
  {
   "cell_type": "code",
   "execution_count": 2,
   "id": "48d814c9-7170-45d1-b72d-282dec1fb273",
   "metadata": {},
   "outputs": [
    {
     "name": "stdout",
     "output_type": "stream",
     "text": [
      "Columna inválida. Elija un número entre 1 y 7.\n",
      "Columna inválida. Elija un número entre 1 y 7.\n",
      "Ficha no valida\n",
      "Columna llena. Elija otra columna.\n",
      "All tests passed successfully!\n"
     ]
    }
   ],
   "source": [
    "# This notebook executes the training routines of the agent(s) \n",
    "import random\n",
    "from importnb import Notebook\n",
    "with Notebook():\n",
    "    #import Board\n",
    "    import Agent\n",
    "from abc import ABC, abstractmethod"
   ]
  },
  {
   "cell_type": "code",
   "execution_count": 3,
   "id": "aa9842ca-1866-4ec1-a056-74a8a3b5c1c1",
   "metadata": {},
   "outputs": [],
   "source": [
    "#### Parent Class ####"
   ]
  },
  {
   "cell_type": "code",
   "execution_count": 4,
   "id": "98e56f13-8466-46d6-9f33-c7ca4a658eb1",
   "metadata": {},
   "outputs": [],
   "source": [
    "class Game(ABC):\n",
    "    def __init__(self, board, agent1):\n",
    "        \"\"\"\n",
    "        clase abstracta Game\n",
    "        \"\"\"\n",
    "        self.board = board\n",
    "        self.agent1 = agent1\n",
    "\n",
    "    def reset_game(self):\n",
    "        self.board.reset()\n",
    "\n",
    "    @abstractmethod\n",
    "    def play(self):\n",
    "        pass # To be implemented by the child classes"
   ]
  },
  {
   "cell_type": "code",
   "execution_count": 5,
   "id": "180d152c-aed0-4f08-a86f-e5788fbcd6e8",
   "metadata": {},
   "outputs": [],
   "source": [
    "#### Child Classes ####"
   ]
  },
  {
   "cell_type": "code",
   "execution_count": 6,
   "id": "bbbc042e-c9a1-4605-a16f-320c9a2fffdf",
   "metadata": {},
   "outputs": [],
   "source": [
    "class AgentVsAgent(Game):\n",
    "    def __init__(self, board, agent1, agent2, epochs = 1):\n",
    "        super().__init__(board, agent1)\n",
    "        self.epochs = epochs\n",
    "        self.agent2 = agent2\n",
    "\n",
    "    def play(self):\n",
    "        \"\"\"Implementa los juegos entre los dos agentes.\"\"\"\n",
    "        for epoch in range(self.epochs):\n",
    "            self.reset_game()\n",
    "            player_turn = random.choice([True, False]) # randomize who gets first turn\n",
    "            \n",
    "            while not self.board.is_game_over():\n",
    "                if player_turn:\n",
    "                    # TODO: implementar el juego del agente1 -> usar la misma de la clase de abajo EXCEPTO por el epsilon decay\n",
    "                    pass\n",
    "                else:\n",
    "                    # TODO: implementar el juego del agente2 -> usar la misma de la clase de abajo EXCEPTO por el epsilon decay\n",
    "                    pass\n",
    "                player_turn = not player_turn"
   ]
  },
  {
   "cell_type": "code",
   "execution_count": 17,
   "id": "1a1d6277-a11c-4902-8e8b-e6e3e3a5e39c",
   "metadata": {},
   "outputs": [],
   "source": [
    "class PlayerVsAgent(Game):\n",
    "    def __init__(self, board, agent):\n",
    "        super().__init__(board, agent)\n",
    "        self.agent = agent\n",
    "        #self.player_chip = ?\n",
    "        if self.agent.chip == \"x\":\n",
    "            self.player_chip = \"o\"\n",
    "        else:\n",
    "            self.player_chip = \"x\"\n",
    "\n",
    "    def play(self):\n",
    "        \"\"\"Implementa un juego entre un humano y un agente.\"\"\"\n",
    "                \n",
    "        play_again = True\n",
    "        while play_again:\n",
    "            \n",
    "            self.reset_game()\n",
    "            player_turn = random.choice([True, False]) # randomize who gets first turn\n",
    "            \n",
    "            while not self.board.is_game_over():              \n",
    "                \n",
    "                if player_turn:\n",
    "                    # print the current state of the board\n",
    "                    self.board.print_board()\n",
    "                    print(\"It´s your turn!\")\n",
    "\n",
    "                    # Ask for the next move and place the chip\n",
    "                    while True:\n",
    "                        try:\n",
    "                            user_input = input(\"What is your move? \")\n",
    "                            new_col_number = int(user_input)  # Intentar convertir a entero\n",
    "                            \n",
    "                            # Verificar que el número esté dentro del rango permitido\n",
    "                            if not (1 <= new_col_number <= 7):\n",
    "                                raise ValueError(\"The column must be a number between 1 and 7.\")\n",
    "                            \n",
    "                            # Intentar colocar la ficha en el tablero\n",
    "                            if not self.board.place_chip(new_col_number, self.player_chip):\n",
    "                                raise ValueError(\"Invalid move. The column might be full or invalid. Try again.\")\n",
    "                            \n",
    "                            # Si el movimiento es válido, romper el bucle\n",
    "                            break\n",
    "                            \n",
    "                        except ValueError as e:\n",
    "                            print(e)\n",
    "\n",
    "                    # Check if game is over\n",
    "                    if self.board.verify_winner(self.player_chip):\n",
    "                        print(\"YOU WIN!\")\n",
    "                        # comunicarle al agente que perdió\n",
    "                        break\n",
    "                    elif self.board.isBoardFull():\n",
    "                        print(\"ITS A TIE\")\n",
    "                        # comunicarle al agente que empató\n",
    "                        break\n",
    "                    \n",
    "                else:\n",
    "                    print(\"It´s my turn!\")\n",
    "\n",
    "                    # Agente selecciona una jugada new_col_number = agent.choose_action(agent.get_state()) o algo asi\n",
    "                    # Poner la ficha con self.board.place_chip(new_col_number, self.agent_chip):\n",
    "                                        # Check if game is over\n",
    "                    if self.board.verify_winner(self.agent.chip):\n",
    "                        print(\"YOU LOSE!\")\n",
    "                        # TODO: Recompensas\n",
    "                        break\n",
    "                    elif self.board.isBoardFull():\n",
    "                        print(\"ITS A TIE\")\n",
    "                        # TODO: Recompensas\n",
    "                        break\n",
    "                    # Asignar recompensa y actualizar Q-Tabla\n",
    "\n",
    "                player_turn = not player_turn\n",
    "\n",
    "            # Juego terminó, preguntar si se quiere volver a jugar\n",
    "            usr_input = \"\"\n",
    "            while usr_input.lower() not in [\"y\", \"n\", \"yes\", \"no\"]:\n",
    "                usr_input = input(\"Do you want to play again? (y/n): \").strip()\n",
    "\n",
    "            if usr_input.lower() in [\"y\", \"yes\"]:\n",
    "                play_again = True  # No es necesario redefinir, pero preferi dejarlo explícito\n",
    "            elif usr_input.lower() in [\"n\", \"no\"]:\n",
    "                play_again = False\n",
    "\n",
    "        print(\"Thanks for playing, Bye!\")"
   ]
  },
  {
   "cell_type": "code",
   "execution_count": 8,
   "id": "cb6335be-5df7-40e3-8b5c-b592b5680961",
   "metadata": {},
   "outputs": [],
   "source": [
    "### Aux Functions ###\n",
    "\n",
    "def chooseChips():\n",
    "        # Choose the chips (player can choose)\n",
    "    player1_chip = \"\"\n",
    "    while player1_chip.lower() not in [\"x\", \"o\"]:\n",
    "        player1_chip = input(\"Please select your chip (x or o)\").strip()\n",
    "        \n",
    "    player1_chip = player1_chip.lower()        \n",
    "    if player1_chip == \"x\":\n",
    "        player2_chip = \"o\"\n",
    "    else:\n",
    "        player2_chip = \"x\"\n",
    "        \n",
    "    return player1_chip, player2_chip\n",
    "\n",
    "def createAgent(): # hay que primero definir como se va a construir el agente para definir esta funcion\n",
    "    # player1_chip, player2_chip = chooseChips():\n",
    "    #return Agent(...,player2_chip,...)\n",
    "    pass\n"
   ]
  }
 ],
 "metadata": {
  "kernelspec": {
   "display_name": "Python 3 (ipykernel)",
   "language": "python",
   "name": "python3"
  },
  "language_info": {
   "codemirror_mode": {
    "name": "ipython",
    "version": 3
   },
   "file_extension": ".py",
   "mimetype": "text/x-python",
   "name": "python",
   "nbconvert_exporter": "python",
   "pygments_lexer": "ipython3",
   "version": "3.11.5"
  }
 },
 "nbformat": 4,
 "nbformat_minor": 5
}
