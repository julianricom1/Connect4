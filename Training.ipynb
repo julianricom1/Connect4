{
  "cells": [
    {
      "cell_type": "code",
      "execution_count": 1,
      "id": "a9a32fcf-fce1-484f-b5da-56780faef7f1",
      "metadata": {},
      "outputs": [],
      "source": [
        "#pip install importnb"
      ]
    },
    {
      "cell_type": "code",
      "execution_count": 2,
      "id": "48d814c9-7170-45d1-b72d-282dec1fb273",
      "metadata": {},
      "outputs": [],
      "source": [
        "# This notebook executes the training routines of the agent(s) \n",
        "import random\n",
        "import time\n",
        "from importnb import Notebook\n",
        "with Notebook():\n",
        "    import Board\n",
        "    import Agent\n",
        "from abc import ABC, abstractmethod"
      ]
    },
    {
      "cell_type": "code",
      "execution_count": 3,
      "id": "aa9842ca-1866-4ec1-a056-74a8a3b5c1c1",
      "metadata": {},
      "outputs": [],
      "source": [
        "#### Parent Class ####"
      ]
    },
    {
      "cell_type": "code",
      "execution_count": 4,
      "id": "98e56f13-8466-46d6-9f33-c7ca4a658eb1",
      "metadata": {},
      "outputs": [],
      "source": [
        "class Game(ABC):\n",
        "    def __init__(self, board, agent1):\n",
        "        \"\"\"\n",
        "        clase abstracta Game\n",
        "        \"\"\"\n",
        "        self.board = board\n",
        "        self.agent1 = agent1\n",
        "\n",
        "    def reset_game(self):\n",
        "        self.board.reset()\n",
        "\n",
        "    @abstractmethod\n",
        "    def play(self):\n",
        "        pass # To be implemented by the child classes"
      ]
    },
    {
      "cell_type": "code",
      "execution_count": 5,
      "id": "180d152c-aed0-4f08-a86f-e5788fbcd6e8",
      "metadata": {},
      "outputs": [],
      "source": [
        "#### Child Classes ####"
      ]
    },
    {
      "cell_type": "code",
      "execution_count": 6,
      "id": "bbbc042e-c9a1-4605-a16f-320c9a2fffdf",
      "metadata": {},
      "outputs": [],
      "source": [
        "class AgentVsAgent(Game):\n",
        "    def __init__(self, board, agent1, agent2, epochs = 1):\n",
        "        super().__init__(board, agent1)\n",
        "        self.epochs = epochs\n",
        "        self.agent2 = agent2\n",
        "        if agent1.chip == agent2.chip:\n",
        "            raise ValueError(\"Los agentes deben tener fichas diferentes\")\n",
        "\n",
        "    def play(self, save_learning = True):\n",
        "        \"\"\"Implementa los juegos entre los dos agentes.\"\"\"\n",
        "        \n",
        "        for epoch in range(self.epochs):\n",
        "            start = time.time()\n",
        "            self.reset_game()\n",
        "            agent_1_turn = random.choice([True, False]) # randomize who gets first turn\n",
        "\n",
        "            # An EPOCH\n",
        "            while True :                \n",
        "                \n",
        "                if agent_1_turn:# Turno Agente 1\n",
        "                    self.agent1.play_turn(episode = epoch)  \n",
        "                        \n",
        "                else: # Turno Agente 2\n",
        "                    self.agent2.play_turn(episode = epoch)\n",
        "\n",
        "                if self.board.isBoardFull() or self.board.verify_winner(self.agent1.chip) or self.board.verify_winner(self.agent2.chip):\n",
        "                    break\n",
        "         \n",
        "                agent_1_turn = not agent_1_turn\n",
        "            # END OF AN EPOCH\n",
        "            \n",
        "            end = time.time()\n",
        "            #if epoch%epoch == 0:\n",
        "            print(f\"Epoch # {epoch} took {(end - start):.3f} s\")\n",
        "        if save_learning:\n",
        "            self.agent1.export_Qtable('Q_Table_A1.pkl')\n",
        "            self.agent1.export_Qtable_JSON('Q_Table_A1.json')\n",
        "            self.agent2.export_Qtable('Q_Table_A2.pkl')\n",
        "            self.agent2.export_Qtable_JSON('Q_Table_A2.json')"
      ]
    },
    {
      "cell_type": "code",
      "execution_count": 7,
      "id": "1a1d6277-a11c-4902-8e8b-e6e3e3a5e39c",
      "metadata": {},
      "outputs": [],
      "source": [
        "class PlayerVsAgent(Game):\n",
        "    def __init__(self, board, agent):\n",
        "        super().__init__(board, agent)\n",
        "        self.agent = agent\n",
        "        #self.player_chip = ?\n",
        "        if self.agent.chip == \"X\":\n",
        "            self.player_chip = \"O\"\n",
        "        else:\n",
        "            self.player_chip = \"X\"\n",
        "\n",
        "    def play(self):\n",
        "        \"\"\"Implementa un juego entre un humano y un agente.\"\"\"\n",
        "                \n",
        "        play_again = True\n",
        "        while play_again:\n",
        "            \n",
        "            self.reset_game()\n",
        "            player_turn = random.choice([True, False]) # randomize who gets first turn\n",
        "            if player_turn:\n",
        "                print(\"You start this time\")\n",
        "            else:\n",
        "                print(\"I will start this time\")\n",
        "            \n",
        "            while True:         \n",
        "                \n",
        "                if player_turn:\n",
        "                    # print the current state of the board\n",
        "                    self.board.print_board()\n",
        "                    print(\"It´s your turn!\")\n",
        "\n",
        "                    # Ask for the next move and place the chip\n",
        "                    while True:\n",
        "                        try:\n",
        "                            user_input = input(\"What is your move? \")\n",
        "                            new_col_number = int(user_input)  # Intentar convertir a entero\n",
        "                            \n",
        "                            # Verificar que el número esté dentro del rango permitido\n",
        "                            if not (1 <= new_col_number <= 7):\n",
        "                                raise ValueError(\"The column must be a number between 1 and 7.\")\n",
        "                            \n",
        "                            # Intentar colocar la ficha en el tablero\n",
        "                            if not self.board.place_chip(new_col_number, self.player_chip):\n",
        "                                raise ValueError(\"Invalid move. The column might be full or invalid. Try again.\")\n",
        "                            \n",
        "                            # Si el movimiento es válido, romper el bucle\n",
        "                            break\n",
        "                            \n",
        "                        except ValueError as e:\n",
        "                            print(e)\n",
        "                            \n",
        "                    if self.board.verify_winner(self.player_chip):\n",
        "                        self.board.print_board()\n",
        "                        print(\"YOU WIN!\")\n",
        "                        # comunicarle al agente que perdió -> asignar la recompensa \n",
        "                        break\n",
        "                    elif self.board.isBoardFull():\n",
        "                        self.board.print_board()\n",
        "                        print(\"ITS A TIE\")\n",
        "                        # comunicarle al agente que empato -> asignar la recompensa \n",
        "                        break\n",
        "\n",
        "                # FIN DEL TURNO DEL Jugador\n",
        "                    \n",
        "                else: # Agents Turn\n",
        "                    \n",
        "                    print(\"\\nIt´s My turn!\")\n",
        "                    self.agent.play_turn()\n",
        "\n",
        "                    if self.board.verify_winner(self.agent.chip):\n",
        "                        self.board.print_board()\n",
        "                        print(\"YOU LOSE!\")\n",
        "                        break\n",
        "                    elif self.board.isBoardFull():\n",
        "                        self.board.print_board()\n",
        "                        print(\"ITS A TIE\")\n",
        "                        # comunicarle al agente que empato -> asignar la recompensa \n",
        "                        break\n",
        "\n",
        "                \n",
        "                    # FIN DEL TURNO DEL AGENTE\n",
        "\n",
        "                player_turn = not player_turn\n",
        "\n",
        "            # Juego terminó, preguntar si se quiere volver a jugar\n",
        "            usr_input = \"\"\n",
        "            while usr_input.lower() not in [\"y\", \"n\", \"yes\", \"no\"]:\n",
        "                usr_input = input(\"Do you want to play again? (y/n): \").strip()\n",
        "\n",
        "            if usr_input.lower() in [\"y\", \"yes\"]:\n",
        "                play_again = True  # No es necesario redefinir, pero preferi dejarlo explícito\n",
        "            elif usr_input.lower() in [\"n\", \"no\"]:\n",
        "                play_again = False\n",
        "\n",
        "        print(\"Thanks for playing, Bye!\")"
      ]
    },
    {
      "cell_type": "markdown",
      "id": "e917a8dc-7e70-469b-b9b0-a27df73fdcd0",
      "metadata": {},
      "source": [
        "**Entrenamiento Agente VS Agente**"
      ]
    },
    {
      "cell_type": "code",
      "execution_count": 8,
      "id": "5e949f23-8fde-48ba-9f1c-8032bbf9a659",
      "metadata": {},
      "outputs": [
        {
          "name": "stdout",
          "output_type": "stream",
          "text": [
            "Q_Table_A1_v1\n"
          ]
        },
        {
          "name": "stderr",
          "output_type": "stream",
          "text": [
            "IOPub data rate exceeded.\n",
            "The Jupyter server will temporarily stop sending output\n",
            "to the client in order to avoid crashing it.\n",
            "To change this limit, set the config variable\n",
            "`--ServerApp.iopub_data_rate_limit`.\n",
            "\n",
            "Current values:\n",
            "ServerApp.iopub_data_rate_limit=1000000.0 (bytes/sec)\n",
            "ServerApp.rate_limit_window=3.0 (secs)\n",
            "\n"
          ]
        }
      ],
      "source": [
        "tablero = Board.Connect4Board()\n",
        "\n",
        "# agente = Agent.Agent(tablero, \"O\")\n",
        "# otroAgente = Agent.Agent(tablero, \"X\")\n",
        "# juego = AgentVsAgent(tablero, agente, otroAgente, epochs = 30)\n",
        "\n",
        "\n",
        "agenteCarga = Agent.Agent(tablero, \"O\", filename = 'Q_Table_A1_v1')\n",
        "juego = PlayerVsAgent(tablero,agenteCarga)"
      ]
    },
    {
      "cell_type": "markdown",
      "id": "5592cb8b-1b5d-420f-ac18-a70dc7c48032",
      "metadata": {},
      "source": [
        "**Prueba contra un agente aleatorio**"
      ]
    },
    {
      "cell_type": "code",
      "execution_count": null,
      "id": "daf3647b-f4b0-4033-ad03-7c43c7de4754",
      "metadata": {
        "scrolled": true
      },
      "outputs": [],
      "source": []
    },
    {
      "cell_type": "code",
      "execution_count": 9,
      "id": "7f18f775-2ae5-48d4-8a44-7e6d11860be7",
      "metadata": {},
      "outputs": [
        {
          "name": "stdout",
          "output_type": "stream",
          "text": [
            "I will start this time\n",
            "\n",
            "It´s My turn!\n",
            "\n",
            "\n",
            "        <<<<<<<<   CONNECT4  >>>>>>>>\n",
            "  Col_1 Col_2 Col_3 Col_4 Col_5 Col_6 Col_7\n",
            "0     -     -     -     -     -     -     -\n",
            "1     -     -     -     -     -     -     -\n",
            "2     -     -     -     -     -     -     -\n",
            "3     -     -     -     -     -     -     -\n",
            "4     -     -     -     -     -     -     -\n",
            "5     -     -     -     -     O     -     -\n",
            "\n",
            "\n",
            "It´s your turn!\n"
          ]
        },
        {
          "name": "stdin",
          "output_type": "stream",
          "text": [
            "What is your move?  1\n"
          ]
        },
        {
          "name": "stdout",
          "output_type": "stream",
          "text": [
            "\n",
            "It´s My turn!\n",
            "\n",
            "\n",
            "        <<<<<<<<   CONNECT4  >>>>>>>>\n",
            "  Col_1 Col_2 Col_3 Col_4 Col_5 Col_6 Col_7\n",
            "0     -     -     -     -     -     -     -\n",
            "1     -     -     -     -     -     -     -\n",
            "2     -     -     -     -     -     -     -\n",
            "3     -     -     -     -     -     -     -\n",
            "4     -     -     -     -     -     -     -\n",
            "5     X     -     O     -     O     -     -\n",
            "\n",
            "\n",
            "It´s your turn!\n"
          ]
        },
        {
          "name": "stdin",
          "output_type": "stream",
          "text": [
            "What is your move?  7\n"
          ]
        },
        {
          "name": "stdout",
          "output_type": "stream",
          "text": [
            "\n",
            "It´s My turn!\n",
            "\n",
            "\n",
            "        <<<<<<<<   CONNECT4  >>>>>>>>\n",
            "  Col_1 Col_2 Col_3 Col_4 Col_5 Col_6 Col_7\n",
            "0     -     -     -     -     -     -     -\n",
            "1     -     -     -     -     -     -     -\n",
            "2     -     -     -     -     -     -     -\n",
            "3     -     -     -     -     -     -     -\n",
            "4     -     -     -     -     -     -     O\n",
            "5     X     -     O     -     O     -     X\n",
            "\n",
            "\n",
            "It´s your turn!\n"
          ]
        },
        {
          "name": "stdin",
          "output_type": "stream",
          "text": [
            "What is your move?  7\n"
          ]
        },
        {
          "name": "stdout",
          "output_type": "stream",
          "text": [
            "\n",
            "It´s My turn!\n",
            "\n",
            "\n",
            "        <<<<<<<<   CONNECT4  >>>>>>>>\n",
            "  Col_1 Col_2 Col_3 Col_4 Col_5 Col_6 Col_7\n",
            "0     -     -     -     -     -     -     -\n",
            "1     -     -     -     -     -     -     -\n",
            "2     -     -     -     -     -     -     -\n",
            "3     -     -     -     -     -     -     X\n",
            "4     -     -     O     -     -     -     O\n",
            "5     X     -     O     -     O     -     X\n",
            "\n",
            "\n",
            "It´s your turn!\n"
          ]
        },
        {
          "name": "stdin",
          "output_type": "stream",
          "text": [
            "What is your move?  7\n"
          ]
        },
        {
          "name": "stdout",
          "output_type": "stream",
          "text": [
            "\n",
            "It´s My turn!\n",
            "\n",
            "\n",
            "        <<<<<<<<   CONNECT4  >>>>>>>>\n",
            "  Col_1 Col_2 Col_3 Col_4 Col_5 Col_6 Col_7\n",
            "0     -     -     -     -     -     -     -\n",
            "1     -     -     -     -     -     -     -\n",
            "2     -     -     -     -     -     -     X\n",
            "3     -     -     -     -     -     -     X\n",
            "4     -     -     O     -     -     -     O\n",
            "5     X     -     O     O     O     -     X\n",
            "\n",
            "\n",
            "It´s your turn!\n"
          ]
        },
        {
          "name": "stdin",
          "output_type": "stream",
          "text": [
            "What is your move?  2\n"
          ]
        },
        {
          "name": "stdout",
          "output_type": "stream",
          "text": [
            "\n",
            "It´s My turn!\n",
            "\n",
            "\n",
            "        <<<<<<<<   CONNECT4  >>>>>>>>\n",
            "  Col_1 Col_2 Col_3 Col_4 Col_5 Col_6 Col_7\n",
            "0     -     -     -     -     -     -     -\n",
            "1     -     -     -     -     -     -     -\n",
            "2     -     -     -     -     -     -     X\n",
            "3     -     -     -     -     -     -     X\n",
            "4     -     O     O     -     -     -     O\n",
            "5     X     X     O     O     O     -     X\n",
            "\n",
            "\n",
            "It´s your turn!\n"
          ]
        },
        {
          "name": "stdin",
          "output_type": "stream",
          "text": [
            "What is your move?  1\n"
          ]
        },
        {
          "name": "stdout",
          "output_type": "stream",
          "text": [
            "\n",
            "It´s My turn!\n",
            "\n",
            "\n",
            "        <<<<<<<<   CONNECT4  >>>>>>>>\n",
            "  Col_1 Col_2 Col_3 Col_4 Col_5 Col_6 Col_7\n",
            "0     -     -     -     -     -     -     -\n",
            "1     -     -     -     -     -     -     -\n",
            "2     -     -     -     -     -     -     X\n",
            "3     -     -     -     -     -     -     X\n",
            "4     X     O     O     -     -     -     O\n",
            "5     X     X     O     O     O     O     X\n",
            "\n",
            "\n",
            "YOU LOSE!\n"
          ]
        },
        {
          "name": "stdin",
          "output_type": "stream",
          "text": [
            "Do you want to play again? (y/n):  y\n"
          ]
        },
        {
          "name": "stdout",
          "output_type": "stream",
          "text": [
            "I will start this time\n",
            "\n",
            "It´s My turn!\n",
            "\n",
            "\n",
            "        <<<<<<<<   CONNECT4  >>>>>>>>\n",
            "  Col_1 Col_2 Col_3 Col_4 Col_5 Col_6 Col_7\n",
            "0     -     -     -     -     -     -     -\n",
            "1     -     -     -     -     -     -     -\n",
            "2     -     -     -     -     -     -     -\n",
            "3     -     -     -     -     -     -     -\n",
            "4     -     -     -     -     -     -     -\n",
            "5     -     -     -     -     -     -     O\n",
            "\n",
            "\n",
            "It´s your turn!\n"
          ]
        },
        {
          "name": "stdin",
          "output_type": "stream",
          "text": [
            "What is your move?  1\n"
          ]
        },
        {
          "name": "stdout",
          "output_type": "stream",
          "text": [
            "\n",
            "It´s My turn!\n",
            "\n",
            "\n",
            "        <<<<<<<<   CONNECT4  >>>>>>>>\n",
            "  Col_1 Col_2 Col_3 Col_4 Col_5 Col_6 Col_7\n",
            "0     -     -     -     -     -     -     -\n",
            "1     -     -     -     -     -     -     -\n",
            "2     -     -     -     -     -     -     -\n",
            "3     -     -     -     -     -     -     -\n",
            "4     O     -     -     -     -     -     -\n",
            "5     X     -     -     -     -     -     O\n",
            "\n",
            "\n",
            "It´s your turn!\n"
          ]
        },
        {
          "name": "stdin",
          "output_type": "stream",
          "text": [
            "What is your move?  4\n"
          ]
        },
        {
          "name": "stdout",
          "output_type": "stream",
          "text": [
            "\n",
            "It´s My turn!\n",
            "\n",
            "\n",
            "        <<<<<<<<   CONNECT4  >>>>>>>>\n",
            "  Col_1 Col_2 Col_3 Col_4 Col_5 Col_6 Col_7\n",
            "0     -     -     -     -     -     -     -\n",
            "1     -     -     -     -     -     -     -\n",
            "2     -     -     -     -     -     -     -\n",
            "3     -     -     -     -     -     -     -\n",
            "4     O     -     -     -     -     -     -\n",
            "5     X     -     -     X     -     O     O\n",
            "\n",
            "\n",
            "It´s your turn!\n"
          ]
        },
        {
          "name": "stdin",
          "output_type": "stream",
          "text": [
            "What is your move?  7\n"
          ]
        },
        {
          "name": "stdout",
          "output_type": "stream",
          "text": [
            "\n",
            "It´s My turn!\n",
            "\n",
            "\n",
            "        <<<<<<<<   CONNECT4  >>>>>>>>\n",
            "  Col_1 Col_2 Col_3 Col_4 Col_5 Col_6 Col_7\n",
            "0     -     -     -     -     -     -     -\n",
            "1     -     -     -     -     -     -     -\n",
            "2     -     -     -     -     -     -     -\n",
            "3     -     -     -     -     -     -     -\n",
            "4     O     -     -     O     -     -     X\n",
            "5     X     -     -     X     -     O     O\n",
            "\n",
            "\n",
            "It´s your turn!\n"
          ]
        },
        {
          "name": "stdin",
          "output_type": "stream",
          "text": [
            "What is your move?  1\n"
          ]
        },
        {
          "name": "stdout",
          "output_type": "stream",
          "text": [
            "\n",
            "It´s My turn!\n",
            "\n",
            "\n",
            "        <<<<<<<<   CONNECT4  >>>>>>>>\n",
            "  Col_1 Col_2 Col_3 Col_4 Col_5 Col_6 Col_7\n",
            "0     -     -     -     -     -     -     -\n",
            "1     -     -     -     -     -     -     -\n",
            "2     -     -     -     -     -     -     -\n",
            "3     X     -     -     -     -     -     -\n",
            "4     O     -     -     O     -     -     X\n",
            "5     X     O     -     X     -     O     O\n",
            "\n",
            "\n",
            "It´s your turn!\n"
          ]
        },
        {
          "name": "stdin",
          "output_type": "stream",
          "text": [
            "What is your move?  5\n"
          ]
        },
        {
          "name": "stdout",
          "output_type": "stream",
          "text": [
            "\n",
            "It´s My turn!\n",
            "\n",
            "\n",
            "        <<<<<<<<   CONNECT4  >>>>>>>>\n",
            "  Col_1 Col_2 Col_3 Col_4 Col_5 Col_6 Col_7\n",
            "0     -     -     -     -     -     -     -\n",
            "1     -     -     -     -     -     -     -\n",
            "2     -     -     -     -     -     -     -\n",
            "3     X     -     -     -     -     -     -\n",
            "4     O     O     -     O     -     -     X\n",
            "5     X     O     -     X     X     O     O\n",
            "\n",
            "\n",
            "It´s your turn!\n"
          ]
        },
        {
          "name": "stdin",
          "output_type": "stream",
          "text": [
            "What is your move?  3\n"
          ]
        },
        {
          "name": "stdout",
          "output_type": "stream",
          "text": [
            "\n",
            "It´s My turn!\n",
            "\n",
            "\n",
            "        <<<<<<<<   CONNECT4  >>>>>>>>\n",
            "  Col_1 Col_2 Col_3 Col_4 Col_5 Col_6 Col_7\n",
            "0     -     -     -     -     -     -     -\n",
            "1     -     -     -     -     -     -     -\n",
            "2     -     -     -     -     -     -     -\n",
            "3     X     O     -     -     -     -     -\n",
            "4     O     O     -     O     -     -     X\n",
            "5     X     O     X     X     X     O     O\n",
            "\n",
            "\n",
            "It´s your turn!\n"
          ]
        },
        {
          "name": "stdin",
          "output_type": "stream",
          "text": [
            "What is your move?  3\n"
          ]
        },
        {
          "name": "stdout",
          "output_type": "stream",
          "text": [
            "\n",
            "It´s My turn!\n",
            "\n",
            "\n",
            "        <<<<<<<<   CONNECT4  >>>>>>>>\n",
            "  Col_1 Col_2 Col_3 Col_4 Col_5 Col_6 Col_7\n",
            "0     -     -     -     -     -     -     -\n",
            "1     -     -     -     -     -     -     -\n",
            "2     -     -     -     -     -     -     -\n",
            "3     X     O     -     O     -     -     -\n",
            "4     O     O     X     O     -     -     X\n",
            "5     X     O     X     X     X     O     O\n",
            "\n",
            "\n",
            "It´s your turn!\n"
          ]
        },
        {
          "name": "stdin",
          "output_type": "stream",
          "text": [
            "What is your move?  2\n"
          ]
        },
        {
          "name": "stdout",
          "output_type": "stream",
          "text": [
            "\n",
            "It´s My turn!\n",
            "\n",
            "\n",
            "        <<<<<<<<   CONNECT4  >>>>>>>>\n",
            "  Col_1 Col_2 Col_3 Col_4 Col_5 Col_6 Col_7\n",
            "0     -     -     -     -     -     -     -\n",
            "1     -     -     -     -     -     -     -\n",
            "2     -     X     -     -     -     -     -\n",
            "3     X     O     -     O     -     -     -\n",
            "4     O     O     X     O     -     O     X\n",
            "5     X     O     X     X     X     O     O\n",
            "\n",
            "\n",
            "It´s your turn!\n"
          ]
        },
        {
          "name": "stdin",
          "output_type": "stream",
          "text": [
            "What is your move?  6\n"
          ]
        },
        {
          "name": "stdout",
          "output_type": "stream",
          "text": [
            "\n",
            "It´s My turn!\n",
            "\n",
            "\n",
            "        <<<<<<<<   CONNECT4  >>>>>>>>\n",
            "  Col_1 Col_2 Col_3 Col_4 Col_5 Col_6 Col_7\n",
            "0     -     -     -     -     -     -     -\n",
            "1     -     -     -     -     -     -     -\n",
            "2     -     X     -     O     -     -     -\n",
            "3     X     O     -     O     -     X     -\n",
            "4     O     O     X     O     -     O     X\n",
            "5     X     O     X     X     X     O     O\n",
            "\n",
            "\n",
            "It´s your turn!\n"
          ]
        },
        {
          "name": "stdin",
          "output_type": "stream",
          "text": [
            "What is your move?  4\n"
          ]
        },
        {
          "name": "stdout",
          "output_type": "stream",
          "text": [
            "\n",
            "It´s My turn!\n",
            "\n",
            "\n",
            "        <<<<<<<<   CONNECT4  >>>>>>>>\n",
            "  Col_1 Col_2 Col_3 Col_4 Col_5 Col_6 Col_7\n",
            "0     -     -     -     -     -     -     -\n",
            "1     -     -     -     X     -     -     -\n",
            "2     -     X     -     O     -     -     -\n",
            "3     X     O     -     O     -     X     O\n",
            "4     O     O     X     O     -     O     X\n",
            "5     X     O     X     X     X     O     O\n",
            "\n",
            "\n",
            "It´s your turn!\n"
          ]
        },
        {
          "name": "stdin",
          "output_type": "stream",
          "text": [
            "What is your move?  5\n"
          ]
        },
        {
          "name": "stdout",
          "output_type": "stream",
          "text": [
            "\n",
            "It´s My turn!\n",
            "\n",
            "\n",
            "        <<<<<<<<   CONNECT4  >>>>>>>>\n",
            "  Col_1 Col_2 Col_3 Col_4 Col_5 Col_6 Col_7\n",
            "0     -     -     -     -     -     -     -\n",
            "1     -     -     -     X     -     -     -\n",
            "2     -     X     -     O     -     O     -\n",
            "3     X     O     -     O     -     X     O\n",
            "4     O     O     X     O     X     O     X\n",
            "5     X     O     X     X     X     O     O\n",
            "\n",
            "\n",
            "It´s your turn!\n"
          ]
        },
        {
          "name": "stdin",
          "output_type": "stream",
          "text": [
            "What is your move?  1\n"
          ]
        },
        {
          "name": "stdout",
          "output_type": "stream",
          "text": [
            "\n",
            "It´s My turn!\n",
            "\n",
            "\n",
            "        <<<<<<<<   CONNECT4  >>>>>>>>\n",
            "  Col_1 Col_2 Col_3 Col_4 Col_5 Col_6 Col_7\n",
            "0     -     -     -     -     -     -     -\n",
            "1     -     -     -     X     -     -     -\n",
            "2     X     X     -     O     -     O     O\n",
            "3     X     O     -     O     -     X     O\n",
            "4     O     O     X     O     X     O     X\n",
            "5     X     O     X     X     X     O     O\n",
            "\n",
            "\n",
            "It´s your turn!\n"
          ]
        },
        {
          "name": "stdin",
          "output_type": "stream",
          "text": [
            "What is your move?  4\n"
          ]
        },
        {
          "name": "stdout",
          "output_type": "stream",
          "text": [
            "\n",
            "It´s My turn!\n",
            "\n",
            "\n",
            "        <<<<<<<<   CONNECT4  >>>>>>>>\n",
            "  Col_1 Col_2 Col_3 Col_4 Col_5 Col_6 Col_7\n",
            "0     -     -     -     X     -     -     -\n",
            "1     -     -     -     X     -     -     -\n",
            "2     X     X     -     O     -     O     O\n",
            "3     X     O     -     O     O     X     O\n",
            "4     O     O     X     O     X     O     X\n",
            "5     X     O     X     X     X     O     O\n",
            "\n",
            "\n",
            "YOU LOSE!\n"
          ]
        },
        {
          "name": "stdin",
          "output_type": "stream",
          "text": [
            "Do you want to play again? (y/n):  y\n"
          ]
        },
        {
          "name": "stdout",
          "output_type": "stream",
          "text": [
            "You start this time\n",
            "\n",
            "\n",
            "        <<<<<<<<   CONNECT4  >>>>>>>>\n",
            "  Col_1 Col_2 Col_3 Col_4 Col_5 Col_6 Col_7\n",
            "0     -     -     -     -     -     -     -\n",
            "1     -     -     -     -     -     -     -\n",
            "2     -     -     -     -     -     -     -\n",
            "3     -     -     -     -     -     -     -\n",
            "4     -     -     -     -     -     -     -\n",
            "5     -     -     -     -     -     -     -\n",
            "\n",
            "\n",
            "It´s your turn!\n"
          ]
        },
        {
          "name": "stdin",
          "output_type": "stream",
          "text": [
            "What is your move?  4\n"
          ]
        },
        {
          "name": "stdout",
          "output_type": "stream",
          "text": [
            "\n",
            "It´s My turn!\n",
            "\n",
            "\n",
            "        <<<<<<<<   CONNECT4  >>>>>>>>\n",
            "  Col_1 Col_2 Col_3 Col_4 Col_5 Col_6 Col_7\n",
            "0     -     -     -     -     -     -     -\n",
            "1     -     -     -     -     -     -     -\n",
            "2     -     -     -     -     -     -     -\n",
            "3     -     -     -     -     -     -     -\n",
            "4     -     -     -     -     -     -     -\n",
            "5     -     -     O     X     -     -     -\n",
            "\n",
            "\n",
            "It´s your turn!\n"
          ]
        },
        {
          "name": "stdin",
          "output_type": "stream",
          "text": [
            "What is your move?  5\n"
          ]
        },
        {
          "name": "stdout",
          "output_type": "stream",
          "text": [
            "\n",
            "It´s My turn!\n",
            "\n",
            "\n",
            "        <<<<<<<<   CONNECT4  >>>>>>>>\n",
            "  Col_1 Col_2 Col_3 Col_4 Col_5 Col_6 Col_7\n",
            "0     -     -     -     -     -     -     -\n",
            "1     -     -     -     -     -     -     -\n",
            "2     -     -     -     -     -     -     -\n",
            "3     -     -     -     -     -     -     -\n",
            "4     -     -     -     -     -     -     -\n",
            "5     -     O     O     X     X     -     -\n",
            "\n",
            "\n",
            "It´s your turn!\n"
          ]
        },
        {
          "name": "stdin",
          "output_type": "stream",
          "text": [
            "What is your move?  1\n"
          ]
        },
        {
          "name": "stdout",
          "output_type": "stream",
          "text": [
            "\n",
            "It´s My turn!\n",
            "\n",
            "\n",
            "        <<<<<<<<   CONNECT4  >>>>>>>>\n",
            "  Col_1 Col_2 Col_3 Col_4 Col_5 Col_6 Col_7\n",
            "0     -     -     -     -     -     -     -\n",
            "1     -     -     -     -     -     -     -\n",
            "2     -     -     -     -     -     -     -\n",
            "3     -     -     -     -     -     -     -\n",
            "4     -     -     -     -     O     -     -\n",
            "5     X     O     O     X     X     -     -\n",
            "\n",
            "\n",
            "It´s your turn!\n"
          ]
        },
        {
          "name": "stdin",
          "output_type": "stream",
          "text": [
            "What is your move?  2\n"
          ]
        },
        {
          "name": "stdout",
          "output_type": "stream",
          "text": [
            "\n",
            "It´s My turn!\n",
            "\n",
            "\n",
            "        <<<<<<<<   CONNECT4  >>>>>>>>\n",
            "  Col_1 Col_2 Col_3 Col_4 Col_5 Col_6 Col_7\n",
            "0     -     -     -     -     -     -     -\n",
            "1     -     -     -     -     -     -     -\n",
            "2     -     -     -     -     -     -     -\n",
            "3     -     -     -     -     -     -     -\n",
            "4     -     X     O     -     O     -     -\n",
            "5     X     O     O     X     X     -     -\n",
            "\n",
            "\n",
            "It´s your turn!\n"
          ]
        },
        {
          "name": "stdin",
          "output_type": "stream",
          "text": [
            "What is your move?  3\n"
          ]
        },
        {
          "name": "stdout",
          "output_type": "stream",
          "text": [
            "\n",
            "It´s My turn!\n",
            "\n",
            "\n",
            "        <<<<<<<<   CONNECT4  >>>>>>>>\n",
            "  Col_1 Col_2 Col_3 Col_4 Col_5 Col_6 Col_7\n",
            "0     -     -     -     -     -     -     -\n",
            "1     -     -     -     -     -     -     -\n",
            "2     -     -     -     -     -     -     -\n",
            "3     -     -     X     -     -     -     -\n",
            "4     O     X     O     -     O     -     -\n",
            "5     X     O     O     X     X     -     -\n",
            "\n",
            "\n",
            "It´s your turn!\n"
          ]
        },
        {
          "name": "stdin",
          "output_type": "stream",
          "text": [
            "What is your move?  7\n"
          ]
        },
        {
          "name": "stdout",
          "output_type": "stream",
          "text": [
            "\n",
            "It´s My turn!\n",
            "\n",
            "\n",
            "        <<<<<<<<   CONNECT4  >>>>>>>>\n",
            "  Col_1 Col_2 Col_3 Col_4 Col_5 Col_6 Col_7\n",
            "0     -     -     -     -     -     -     -\n",
            "1     -     -     -     -     -     -     -\n",
            "2     -     -     -     -     -     -     -\n",
            "3     -     -     X     -     O     -     -\n",
            "4     O     X     O     -     O     -     -\n",
            "5     X     O     O     X     X     -     X\n",
            "\n",
            "\n",
            "It´s your turn!\n"
          ]
        },
        {
          "name": "stdin",
          "output_type": "stream",
          "text": [
            "What is your move?  7\n"
          ]
        },
        {
          "name": "stdout",
          "output_type": "stream",
          "text": [
            "\n",
            "It´s My turn!\n",
            "\n",
            "\n",
            "        <<<<<<<<   CONNECT4  >>>>>>>>\n",
            "  Col_1 Col_2 Col_3 Col_4 Col_5 Col_6 Col_7\n",
            "0     -     -     -     -     -     -     -\n",
            "1     -     -     -     -     -     -     -\n",
            "2     -     -     -     -     O     -     -\n",
            "3     -     -     X     -     O     -     -\n",
            "4     O     X     O     -     O     -     X\n",
            "5     X     O     O     X     X     -     X\n",
            "\n",
            "\n",
            "It´s your turn!\n"
          ]
        },
        {
          "name": "stdin",
          "output_type": "stream",
          "text": [
            "What is your move?  5\n"
          ]
        },
        {
          "name": "stdout",
          "output_type": "stream",
          "text": [
            "\n",
            "It´s My turn!\n",
            "\n",
            "\n",
            "        <<<<<<<<   CONNECT4  >>>>>>>>\n",
            "  Col_1 Col_2 Col_3 Col_4 Col_5 Col_6 Col_7\n",
            "0     -     -     -     -     -     -     -\n",
            "1     -     -     -     -     X     -     -\n",
            "2     -     -     -     -     O     -     -\n",
            "3     -     -     X     -     O     -     O\n",
            "4     O     X     O     -     O     -     X\n",
            "5     X     O     O     X     X     -     X\n",
            "\n",
            "\n",
            "It´s your turn!\n"
          ]
        },
        {
          "name": "stdin",
          "output_type": "stream",
          "text": [
            "What is your move?  1\n"
          ]
        },
        {
          "name": "stdout",
          "output_type": "stream",
          "text": [
            "\n",
            "It´s My turn!\n",
            "\n",
            "\n",
            "        <<<<<<<<   CONNECT4  >>>>>>>>\n",
            "  Col_1 Col_2 Col_3 Col_4 Col_5 Col_6 Col_7\n",
            "0     -     -     -     -     O     -     -\n",
            "1     -     -     -     -     X     -     -\n",
            "2     -     -     -     -     O     -     -\n",
            "3     X     -     X     -     O     -     O\n",
            "4     O     X     O     -     O     -     X\n",
            "5     X     O     O     X     X     -     X\n",
            "\n",
            "\n",
            "It´s your turn!\n"
          ]
        },
        {
          "name": "stdin",
          "output_type": "stream",
          "text": [
            "What is your move?  7\n"
          ]
        },
        {
          "name": "stdout",
          "output_type": "stream",
          "text": [
            "\n",
            "It´s My turn!\n",
            "\n",
            "\n",
            "        <<<<<<<<   CONNECT4  >>>>>>>>\n",
            "  Col_1 Col_2 Col_3 Col_4 Col_5 Col_6 Col_7\n",
            "0     -     -     -     -     O     -     -\n",
            "1     -     -     -     -     X     -     O\n",
            "2     -     -     -     -     O     -     X\n",
            "3     X     -     X     -     O     -     O\n",
            "4     O     X     O     -     O     -     X\n",
            "5     X     O     O     X     X     -     X\n",
            "\n",
            "\n",
            "It´s your turn!\n"
          ]
        },
        {
          "name": "stdin",
          "output_type": "stream",
          "text": [
            "What is your move?  7\n"
          ]
        },
        {
          "name": "stdout",
          "output_type": "stream",
          "text": [
            "\n",
            "It´s My turn!\n",
            "\n",
            "\n",
            "        <<<<<<<<   CONNECT4  >>>>>>>>\n",
            "  Col_1 Col_2 Col_3 Col_4 Col_5 Col_6 Col_7\n",
            "0     -     -     -     -     O     -     X\n",
            "1     -     -     -     -     X     -     O\n",
            "2     -     -     -     -     O     -     X\n",
            "3     X     -     X     -     O     -     O\n",
            "4     O     X     O     O     O     -     X\n",
            "5     X     O     O     X     X     -     X\n",
            "\n",
            "\n",
            "It´s your turn!\n"
          ]
        },
        {
          "name": "stdin",
          "output_type": "stream",
          "text": [
            "What is your move?  2\n"
          ]
        },
        {
          "name": "stdout",
          "output_type": "stream",
          "text": [
            "\n",
            "It´s My turn!\n",
            "\n",
            "\n",
            "        <<<<<<<<   CONNECT4  >>>>>>>>\n",
            "  Col_1 Col_2 Col_3 Col_4 Col_5 Col_6 Col_7\n",
            "0     -     -     -     -     O     -     X\n",
            "1     -     -     -     -     X     -     O\n",
            "2     -     -     -     -     O     -     X\n",
            "3     X     X     X     -     O     -     O\n",
            "4     O     X     O     O     O     -     X\n",
            "5     X     O     O     X     X     O     X\n",
            "\n",
            "\n",
            "It´s your turn!\n"
          ]
        },
        {
          "name": "stdin",
          "output_type": "stream",
          "text": [
            "What is your move?  6\n"
          ]
        },
        {
          "name": "stdout",
          "output_type": "stream",
          "text": [
            "\n",
            "It´s My turn!\n",
            "\n",
            "\n",
            "        <<<<<<<<   CONNECT4  >>>>>>>>\n",
            "  Col_1 Col_2 Col_3 Col_4 Col_5 Col_6 Col_7\n",
            "0     -     -     -     -     O     -     X\n",
            "1     -     -     -     -     X     -     O\n",
            "2     O     -     -     -     O     -     X\n",
            "3     X     X     X     -     O     -     O\n",
            "4     O     X     O     O     O     X     X\n",
            "5     X     O     O     X     X     O     X\n",
            "\n",
            "\n",
            "It´s your turn!\n"
          ]
        },
        {
          "name": "stdin",
          "output_type": "stream",
          "text": [
            "What is your move?  6\n"
          ]
        },
        {
          "name": "stdout",
          "output_type": "stream",
          "text": [
            "\n",
            "It´s My turn!\n",
            "\n",
            "\n",
            "        <<<<<<<<   CONNECT4  >>>>>>>>\n",
            "  Col_1 Col_2 Col_3 Col_4 Col_5 Col_6 Col_7\n",
            "0     -     -     -     -     O     -     X\n",
            "1     -     -     -     -     X     -     O\n",
            "2     O     -     -     -     O     -     X\n",
            "3     X     X     X     O     O     X     O\n",
            "4     O     X     O     O     O     X     X\n",
            "5     X     O     O     X     X     O     X\n",
            "\n",
            "\n",
            "YOU LOSE!\n"
          ]
        },
        {
          "name": "stdin",
          "output_type": "stream",
          "text": [
            "Do you want to play again? (y/n):  n\n"
          ]
        },
        {
          "name": "stdout",
          "output_type": "stream",
          "text": [
            "Thanks for playing, Bye!\n"
          ]
        }
      ],
      "source": [
        "juego.play()"
      ]
    }
  ],
  "metadata": {
    "kernelspec": {
      "display_name": "Python 3 (ipykernel)",
      "language": "python",
      "name": "python3"
    },
    "language_info": {
      "codemirror_mode": {
        "name": "ipython",
        "version": 3
      },
      "file_extension": ".py",
      "mimetype": "text/x-python",
      "name": "python",
      "nbconvert_exporter": "python",
      "pygments_lexer": "ipython3",
      "version": "3.11.5"
    }
  },
  "nbformat": 4,
  "nbformat_minor": 5
}
