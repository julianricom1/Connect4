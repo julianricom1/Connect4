{
 "cells": [
  {
   "cell_type": "code",
   "execution_count": null,
   "id": "caca4075-ec01-443d-b49b-b84f0ea798aa",
   "metadata": {},
   "outputs": [],
   "source": [
    "# Definition on the Agent that plays Cnnect4"
   ]
  }
 ],
 "metadata": {
  "kernelspec": {
   "display_name": "Python 3 (ipykernel)",
   "language": "python",
   "name": "python3"
  },
  "language_info": {
   "codemirror_mode": {
    "name": "ipython",
    "version": 3
   },
   "file_extension": ".py",
   "mimetype": "text/x-python",
   "name": "python",
   "nbconvert_exporter": "python",
   "pygments_lexer": "ipython3",
   "version": "3.11.5"
  }
 },
 "nbformat": 4,
 "nbformat_minor": 5
}
