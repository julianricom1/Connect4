{
 "cells": [
  {
   "cell_type": "code",
   "execution_count": null,
   "id": "b95cecfa-5799-4477-9b4d-aa5e3c5c6528",
   "metadata": {},
   "outputs": [],
   "source": [
    "# Definition of the Connect4 Board"
   ]
  }
 ],
 "metadata": {
  "kernelspec": {
   "display_name": "Python 3 (ipykernel)",
   "language": "python",
   "name": "python3"
  },
  "language_info": {
   "codemirror_mode": {
    "name": "ipython",
    "version": 3
   },
   "file_extension": ".py",
   "mimetype": "text/x-python",
   "name": "python",
   "nbconvert_exporter": "python",
   "pygments_lexer": "ipython3",
   "version": "3.11.5"
  }
 },
 "nbformat": 4,
 "nbformat_minor": 5
}
