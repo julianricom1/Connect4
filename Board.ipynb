{
 "cells": [
  {
   "cell_type": "code",
   "execution_count": null,
   "id": "b95cecfa-5799-4477-9b4d-aa5e3c5c6528",
   "metadata": {},
   "outputs": [],
   "source": [
    "# Definition of the Connect4 Board"
   ]
  },
  {
   "cell_type": "code",
   "execution_count": 6,
   "id": "791f33b1-29e4-4f6d-b83c-32ec4afd768c",
   "metadata": {},
   "outputs": [],
   "source": [
    "# Libraries\n",
    "import pandas as pd"
   ]
  },
  {
   "cell_type": "code",
   "execution_count": 54,
   "id": "d0fce6f5-3832-49a7-93ab-c31267c85136",
   "metadata": {},
   "outputs": [],
   "source": [
    "# Inicializar un tablero de 6x7 con celdas vacías representadas por \"_\"\n",
    "class Connect4Board:\n",
    "    def __init__(self):\n",
    "        self.ncolumns = 7\n",
    "        self.nrows = 6\n",
    "        self.board = pd.DataFrame([[\"-\"] * 7 for _ in range(6)], columns=[f\"Col_{i+1}\" for i in range(self.ncolumns)])\n",
    "\n",
    "    \n",
    "    def print_board(self):\n",
    "        print(\"        <<<<<<<<   CONNECT4  >>>>>>>>\")\n",
    "        print(self.board)\n",
    "        print(\"\\n\")\n",
    "    \n",
    "    def place_chip(self, column, chip):\n",
    "        # Check that the choice is valid\n",
    "        if column < 1 or column > self.ncolumns:\n",
    "            print(\"Columna inválida. Elija un número entre 1 y 7.\")\n",
    "            return False\n",
    "        \n",
    "        # place the chip on the upper-most position in the column\n",
    "        for row in reversed(range(6)):\n",
    "            if self.board.iloc[row, column - 1] == \"-\":\n",
    "                self.board.iloc[row, column - 1] = chip\n",
    "                return True\n",
    "        \n",
    "        print(\"Columna llena. Elija otra columna.\")\n",
    "        return False\n",
    "    \n",
    "    # Método para verificar si hay un ganador (esto es una implementación básica, aún se puede mejorar)\n",
    "    def verify_winner(player,self):\n",
    "        raise NotImplemented\n",
    "\n",
    "    def isGameOver(self):\n",
    "        raise NotImplemented\n",
    "\n",
    "    def reset():\n",
    "        self.board = pd.DataFrame([[\"-\"] * 7 for _ in range(6)], columns=[f\"Col_{i+1}\" for i in range(self.ncolumns)])\n",
    "        return True        \n",
    "        \n"
   ]
  },
  {
   "cell_type": "code",
   "execution_count": 52,
   "id": "6849c866-f471-492e-9a23-21ca6decb006",
   "metadata": {},
   "outputs": [
    {
     "name": "stdout",
     "output_type": "stream",
     "text": [
      "        <<<<<<<<   CONNECT4  >>>>>>>>\n",
      "  Col_1 Col_2 Col_3 Col_4 Col_5 Col_6 Col_7\n",
      "0     -     -     -     -     -     -     -\n",
      "1     -     -     -     -     -     -     -\n",
      "2     -     -     -     -     -     -     -\n",
      "3     -     -     -     -     -     -     -\n",
      "4     -     -     -     -     -     -     -\n",
      "5     -     -     -     -     -     -     -\n",
      "\n",
      "\n",
      "        <<<<<<<<   CONNECT4  >>>>>>>>\n",
      "  Col_1 Col_2 Col_3 Col_4 Col_5 Col_6 Col_7\n",
      "0     -     -     -     -     -     -     -\n",
      "1     -     -     -     -     -     -     -\n",
      "2     -     -     -     -     -     -     -\n",
      "3     -     -     -     -     -     -     -\n",
      "4     -     -     O     -     -     -     -\n",
      "5     O     O     X     X     -     -     X\n",
      "\n",
      "\n"
     ]
    }
   ],
   "source": [
    "# Crear el tablero y mostrarlo\n",
    "tablero = Connect4Board()\n",
    "tablero.print_board()\n",
    "\n",
    "# Ejemplo de cómo colocar fichas\n",
    "tablero.place_chip(3, \"X\")\n",
    "tablero.place_chip(3, \"O\")\n",
    "tablero.place_chip(1, \"O\")\n",
    "tablero.place_chip(2, \"O\")\n",
    "tablero.place_chip(4, \"X\")\n",
    "tablero.place_chip(7, \"X\")\n",
    "tablero.print_board()\n"
   ]
  },
  {
   "cell_type": "code",
   "execution_count": null,
   "id": "f823e7cd-1e09-46f9-9475-73c6b10238fa",
   "metadata": {},
   "outputs": [],
   "source": []
  }
 ],
 "metadata": {
  "kernelspec": {
   "display_name": "Python 3 (ipykernel)",
   "language": "python",
   "name": "python3"
  },
  "language_info": {
   "codemirror_mode": {
    "name": "ipython",
    "version": 3
   },
   "file_extension": ".py",
   "mimetype": "text/x-python",
   "name": "python",
   "nbconvert_exporter": "python",
   "pygments_lexer": "ipython3",
   "version": "3.11.5"
  }
 },
 "nbformat": 4,
 "nbformat_minor": 5
}
